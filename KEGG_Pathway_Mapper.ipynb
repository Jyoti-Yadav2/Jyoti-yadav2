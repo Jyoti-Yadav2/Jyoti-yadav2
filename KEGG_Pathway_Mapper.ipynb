{
  "nbformat": 4,
  "nbformat_minor": 0,
  "metadata": {
    "colab": {
      "provenance": [],
      "authorship_tag": "ABX9TyN7YxfwhFSdDTyypfRgPTrh",
      "include_colab_link": true
    },
    "kernelspec": {
      "name": "python3",
      "display_name": "Python 3"
    },
    "language_info": {
      "name": "python"
    }
  },
  "cells": [
    {
      "cell_type": "markdown",
      "metadata": {
        "id": "view-in-github",
        "colab_type": "text"
      },
      "source": [
        "<a href=\"https://colab.research.google.com/github/Jyoti-Yadav2/Jyoti-yadav2/blob/main/KEGG_Pathway_Mapper.ipynb\" target=\"_parent\"><img src=\"https://colab.research.google.com/assets/colab-badge.svg\" alt=\"Open In Colab\"/></a>"
      ]
    },
    {
      "cell_type": "code",
      "execution_count": 18,
      "metadata": {
        "colab": {
          "base_uri": "https://localhost:8080/"
        },
        "collapsed": true,
        "id": "6hiMczDZQ0Nz",
        "outputId": "10fb9c8c-415d-403c-be56-1af0aca32fc3"
      },
      "outputs": [
        {
          "output_type": "stream",
          "name": "stdout",
          "text": [
            "Requirement already satisfied: bioservices in /usr/local/lib/python3.11/dist-packages (1.12.1)\n",
            "Requirement already satisfied: pandas in /usr/local/lib/python3.11/dist-packages (2.2.2)\n",
            "Requirement already satisfied: Matplotlib in /usr/local/lib/python3.11/dist-packages (3.10.0)\n",
            "Requirement already satisfied: seaborn in /usr/local/lib/python3.11/dist-packages (0.13.2)\n",
            "Requirement already satisfied: appdirs<2.0.0,>=1.4.4 in /usr/local/lib/python3.11/dist-packages (from bioservices) (1.4.4)\n",
            "Requirement already satisfied: beautifulsoup4<5.0.0,>=4.12.3 in /usr/local/lib/python3.11/dist-packages (from bioservices) (4.13.4)\n",
            "Requirement already satisfied: click<9.0.0,>=8.1.8 in /usr/local/lib/python3.11/dist-packages (from bioservices) (8.2.1)\n",
            "Requirement already satisfied: colorlog<7.0.0,>=6.9.0 in /usr/local/lib/python3.11/dist-packages (from bioservices) (6.9.0)\n",
            "Requirement already satisfied: easydev<0.14.0,>=0.13.3 in /usr/local/lib/python3.11/dist-packages (from bioservices) (0.13.3)\n",
            "Requirement already satisfied: grequests<0.8.0,>=0.7.0 in /usr/local/lib/python3.11/dist-packages (from bioservices) (0.7.0)\n",
            "Requirement already satisfied: lxml<6.0.0,>=5.3.0 in /usr/local/lib/python3.11/dist-packages (from bioservices) (5.4.0)\n",
            "Requirement already satisfied: requests<3.0.0,>=2.32.3 in /usr/local/lib/python3.11/dist-packages (from bioservices) (2.32.3)\n",
            "Requirement already satisfied: requests-cache<2.0.0,>=1.2.1 in /usr/local/lib/python3.11/dist-packages (from bioservices) (1.2.1)\n",
            "Requirement already satisfied: rich-click<2.0.0,>=1.8.5 in /usr/local/lib/python3.11/dist-packages (from bioservices) (1.8.9)\n",
            "Requirement already satisfied: suds-community<2.0.0,>=1.2.0 in /usr/local/lib/python3.11/dist-packages (from bioservices) (1.2.0)\n",
            "Requirement already satisfied: tqdm<5.0.0,>=4.67.1 in /usr/local/lib/python3.11/dist-packages (from bioservices) (4.67.1)\n",
            "Requirement already satisfied: wrapt<2.0.0,>=1.17.2 in /usr/local/lib/python3.11/dist-packages (from bioservices) (1.17.2)\n",
            "Requirement already satisfied: xmltodict<0.15.0,>=0.14.2 in /usr/local/lib/python3.11/dist-packages (from bioservices) (0.14.2)\n",
            "Requirement already satisfied: numpy>=1.23.2 in /usr/local/lib/python3.11/dist-packages (from pandas) (2.0.2)\n",
            "Requirement already satisfied: python-dateutil>=2.8.2 in /usr/local/lib/python3.11/dist-packages (from pandas) (2.9.0.post0)\n",
            "Requirement already satisfied: pytz>=2020.1 in /usr/local/lib/python3.11/dist-packages (from pandas) (2025.2)\n",
            "Requirement already satisfied: tzdata>=2022.7 in /usr/local/lib/python3.11/dist-packages (from pandas) (2025.2)\n",
            "Requirement already satisfied: contourpy>=1.0.1 in /usr/local/lib/python3.11/dist-packages (from Matplotlib) (1.3.2)\n",
            "Requirement already satisfied: cycler>=0.10 in /usr/local/lib/python3.11/dist-packages (from Matplotlib) (0.12.1)\n",
            "Requirement already satisfied: fonttools>=4.22.0 in /usr/local/lib/python3.11/dist-packages (from Matplotlib) (4.58.5)\n",
            "Requirement already satisfied: kiwisolver>=1.3.1 in /usr/local/lib/python3.11/dist-packages (from Matplotlib) (1.4.8)\n",
            "Requirement already satisfied: packaging>=20.0 in /usr/local/lib/python3.11/dist-packages (from Matplotlib) (25.0)\n",
            "Requirement already satisfied: pillow>=8 in /usr/local/lib/python3.11/dist-packages (from Matplotlib) (11.2.1)\n",
            "Requirement already satisfied: pyparsing>=2.3.1 in /usr/local/lib/python3.11/dist-packages (from Matplotlib) (3.2.3)\n",
            "Requirement already satisfied: soupsieve>1.2 in /usr/local/lib/python3.11/dist-packages (from beautifulsoup4<5.0.0,>=4.12.3->bioservices) (2.7)\n",
            "Requirement already satisfied: typing-extensions>=4.0.0 in /usr/local/lib/python3.11/dist-packages (from beautifulsoup4<5.0.0,>=4.12.3->bioservices) (4.14.1)\n",
            "Requirement already satisfied: colorama<0.5.0,>=0.4.6 in /usr/local/lib/python3.11/dist-packages (from easydev<0.14.0,>=0.13.3->bioservices) (0.4.6)\n",
            "Requirement already satisfied: line-profiler<5.0.0,>=4.1.2 in /usr/local/lib/python3.11/dist-packages (from easydev<0.14.0,>=0.13.3->bioservices) (4.2.0)\n",
            "Requirement already satisfied: pexpect<5.0.0,>=4.9.0 in /usr/local/lib/python3.11/dist-packages (from easydev<0.14.0,>=0.13.3->bioservices) (4.9.0)\n",
            "Requirement already satisfied: platformdirs<5.0.0,>=4.2.0 in /usr/local/lib/python3.11/dist-packages (from easydev<0.14.0,>=0.13.3->bioservices) (4.3.8)\n",
            "Requirement already satisfied: gevent in /usr/local/lib/python3.11/dist-packages (from grequests<0.8.0,>=0.7.0->bioservices) (25.5.1)\n",
            "Requirement already satisfied: six>=1.5 in /usr/local/lib/python3.11/dist-packages (from python-dateutil>=2.8.2->pandas) (1.17.0)\n",
            "Requirement already satisfied: charset-normalizer<4,>=2 in /usr/local/lib/python3.11/dist-packages (from requests<3.0.0,>=2.32.3->bioservices) (3.4.2)\n",
            "Requirement already satisfied: idna<4,>=2.5 in /usr/local/lib/python3.11/dist-packages (from requests<3.0.0,>=2.32.3->bioservices) (3.10)\n",
            "Requirement already satisfied: urllib3<3,>=1.21.1 in /usr/local/lib/python3.11/dist-packages (from requests<3.0.0,>=2.32.3->bioservices) (2.4.0)\n",
            "Requirement already satisfied: certifi>=2017.4.17 in /usr/local/lib/python3.11/dist-packages (from requests<3.0.0,>=2.32.3->bioservices) (2025.7.14)\n",
            "Requirement already satisfied: attrs>=21.2 in /usr/local/lib/python3.11/dist-packages (from requests-cache<2.0.0,>=1.2.1->bioservices) (25.3.0)\n",
            "Requirement already satisfied: cattrs>=22.2 in /usr/local/lib/python3.11/dist-packages (from requests-cache<2.0.0,>=1.2.1->bioservices) (25.1.1)\n",
            "Requirement already satisfied: url-normalize>=1.4 in /usr/local/lib/python3.11/dist-packages (from requests-cache<2.0.0,>=1.2.1->bioservices) (2.2.1)\n",
            "Requirement already satisfied: rich>=10.7 in /usr/local/lib/python3.11/dist-packages (from rich-click<2.0.0,>=1.8.5->bioservices) (13.9.4)\n",
            "Requirement already satisfied: ptyprocess>=0.5 in /usr/local/lib/python3.11/dist-packages (from pexpect<5.0.0,>=4.9.0->easydev<0.14.0,>=0.13.3->bioservices) (0.7.0)\n",
            "Requirement already satisfied: markdown-it-py>=2.2.0 in /usr/local/lib/python3.11/dist-packages (from rich>=10.7->rich-click<2.0.0,>=1.8.5->bioservices) (3.0.0)\n",
            "Requirement already satisfied: pygments<3.0.0,>=2.13.0 in /usr/local/lib/python3.11/dist-packages (from rich>=10.7->rich-click<2.0.0,>=1.8.5->bioservices) (2.19.2)\n",
            "Requirement already satisfied: greenlet>=3.2.2 in /usr/local/lib/python3.11/dist-packages (from gevent->grequests<0.8.0,>=0.7.0->bioservices) (3.2.3)\n",
            "Requirement already satisfied: zope.event in /usr/local/lib/python3.11/dist-packages (from gevent->grequests<0.8.0,>=0.7.0->bioservices) (5.1)\n",
            "Requirement already satisfied: zope.interface in /usr/local/lib/python3.11/dist-packages (from gevent->grequests<0.8.0,>=0.7.0->bioservices) (7.2)\n",
            "Requirement already satisfied: mdurl~=0.1 in /usr/local/lib/python3.11/dist-packages (from markdown-it-py>=2.2.0->rich>=10.7->rich-click<2.0.0,>=1.8.5->bioservices) (0.1.2)\n",
            "Requirement already satisfied: setuptools in /usr/local/lib/python3.11/dist-packages (from zope.event->gevent->grequests<0.8.0,>=0.7.0->bioservices) (75.2.0)\n"
          ]
        }
      ],
      "source": [
        "# install required packages\n",
        "!pip install bioservices pandas Matplotlib seaborn"
      ]
    },
    {
      "cell_type": "code",
      "source": [
        "# import libraries\n",
        "from bioservices.kegg import KEGG\n",
        "import pandas as pd\n",
        "import matplotlib.pyplot as plt\n",
        "import seaborn as sns"
      ],
      "metadata": {
        "id": "4FmIpu0DRY0e"
      },
      "execution_count": 19,
      "outputs": []
    },
    {
      "cell_type": "code",
      "source": [
        "# initialize KEGG\n",
        "k = KEGG()\n",
        "k.organism = \"eco\" # E. coli"
      ],
      "metadata": {
        "id": "wNKPA2EbR61l"
      },
      "execution_count": 20,
      "outputs": []
    },
    {
      "cell_type": "code",
      "source": [
        "# define gene list (E.coli gene IDs)\n",
        "gene_ids = [\n",
        "    'eco:b0002', #thrA\n",
        "    'eco:b0003', #thrB\n",
        "    'eco:b0004', #thrC\n",
        "    'eco:b0005', # ilvC\n",
        "    'eco:b0006', #ilvD\n",
        "    'eco:b0007' #leuA\n",
        "]"
      ],
      "metadata": {
        "id": "GemTKevqUuVc"
      },
      "execution_count": 21,
      "outputs": []
    },
    {
      "cell_type": "code",
      "source": [
        "# fetch gene -> patgway links\n",
        "results = []\n",
        "for gene in gene_ids:\n",
        "  try:\n",
        "    pathways = k.link(\"pathway\", gene)\n",
        "    lines = pathways.strip().split('\\n')\n",
        "    for line in lines:\n",
        "      gene_id, path_id = line.split('\\t')\n",
        "      path_id =path_id.replace(\"path:\", \"\")\n",
        "      results.append({\"Gene\": gene_id, \"Pathway\": path_id})\n",
        "  except:\n",
        "    print(f\" Could not fetch pathway for {gene}\")"
      ],
      "metadata": {
        "colab": {
          "base_uri": "https://localhost:8080/"
        },
        "id": "wrcbXeeLWOJu",
        "outputId": "09cf2e62-3336-4160-b7d7-4fd8ddada2cb"
      },
      "execution_count": 22,
      "outputs": [
        {
          "output_type": "stream",
          "name": "stdout",
          "text": [
            " Could not fetch pathway for eco:b0005\n",
            " Could not fetch pathway for eco:b0006\n",
            " Could not fetch pathway for eco:b0007\n"
          ]
        }
      ]
    },
    {
      "cell_type": "code",
      "source": [
        "# save to DataFrame\n",
        "pathway_df = pd.DataFrame(results)\n",
        "pathway_df.to_csv(\"KEGG_gene_pathways.csv\", index=False)\n",
        "print(\" Pathway mapping saved as 'KEGG_gene_pathways.csv'\")"
      ],
      "metadata": {
        "colab": {
          "base_uri": "https://localhost:8080/"
        },
        "id": "JTFI0hgrYElk",
        "outputId": "e1faa51f-da1c-4a83-e07c-0d199ce6df52"
      },
      "execution_count": 23,
      "outputs": [
        {
          "output_type": "stream",
          "name": "stdout",
          "text": [
            " Pathway mapping saved as 'KEGG_gene_pathways.csv'\n"
          ]
        }
      ]
    },
    {
      "cell_type": "code",
      "source": [
        "# bar chart: pathway count per gene\n",
        "plt.figure(figsize=(8, 4))\n",
        "sns.countplot(data=pathway_df, y='Gene', order=pathway_df['Gene'].value_counts().index, palette='rocket', hue='Gene', legend=False)\n",
        "plt.title('Pathway count per gene')\n",
        "plt.xlabel('Count')\n",
        "plt.ylabel('Gene')\n",
        "\n",
        "#save the file in png\n",
        "plt.savefig(\"pathway_count_per_gene.png\", bbox_inches='tight')\n",
        "plt.show()"
      ],
      "metadata": {
        "colab": {
          "base_uri": "https://localhost:8080/",
          "height": 410
        },
        "id": "n-UNlbe9Zi65",
        "outputId": "ad960639-6ae2-4da4-df4d-40f1018a9ef4"
      },
      "execution_count": 24,
      "outputs": [
        {
          "output_type": "display_data",
          "data": {
            "text/plain": [
              "<Figure size 800x400 with 1 Axes>"
            ],
            "image/png": "[encoded data removed]"
          },
          "metadata": {}
        }
      ]
    }
  ]
}