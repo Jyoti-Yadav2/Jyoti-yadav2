{
  "nbformat": 4,
  "nbformat_minor": 0,
  "metadata": {
    "colab": {
      "provenance": [],
      "authorship_tag": "ABX9TyPyex+q3AZk1cKk9kxBLsIn",
      "include_colab_link": true
    },
    "kernelspec": {
      "name": "python3",
      "display_name": "Python 3"
    },
    "language_info": {
      "name": "python"
    }
  },
  "cells": [
    {
      "cell_type": "markdown",
      "metadata": {
        "id": "view-in-github",
        "colab_type": "text"
      },
      "source": [
        "<a href=\"https://colab.research.google.com/github/Jyoti-Yadav2/Jyoti-yadav2/blob/main/Basics_of_scikit_bio.ipynb\" target=\"_parent\"><img src=\"https://colab.research.google.com/assets/colab-badge.svg\" alt=\"Open In Colab\"/></a>"
      ]
    },
    {
      "cell_type": "code",
      "execution_count": 1,
      "metadata": {
        "id": "Yyi5ophACCxZ"
      },
      "outputs": [],
      "source": [
        "from importlib.util import find_spec"
      ]
    },
    {
      "cell_type": "code",
      "source": [
        "if find_spec('skbio') is None:\n",
        "  !pip install -q scikit-bio"
      ],
      "metadata": {
        "colab": {
          "base_uri": "https://localhost:8080/"
        },
        "id": "OH5l-FkvCZLB",
        "outputId": "8e327498-ea3d-49d6-b014-047143689962"
      },
      "execution_count": 2,
      "outputs": [
        {
          "output_type": "stream",
          "name": "stdout",
          "text": [
            "\u001b[2K     \u001b[90m━━━━━━━━━━━━━━━━━━━━━━━━━━━━━━━━━━━━━━━━\u001b[0m \u001b[32m11.7/11.7 MB\u001b[0m \u001b[31m26.6 MB/s\u001b[0m eta \u001b[36m0:00:00\u001b[0m\n",
            "\u001b[?25h  Installing build dependencies ... \u001b[?25l\u001b[?25hdone\n",
            "  Getting requirements to build wheel ... \u001b[?25l\u001b[?25hdone\n",
            "  Preparing metadata (pyproject.toml) ... \u001b[?25l\u001b[?25hdone\n",
            "\u001b[2K   \u001b[90m━━━━━━━━━━━━━━━━━━━━━━━━━━━━━━━━━━━━━━━━\u001b[0m \u001b[32m9.8/9.8 MB\u001b[0m \u001b[31m10.6 MB/s\u001b[0m eta \u001b[36m0:00:00\u001b[0m\n",
            "\u001b[2K   \u001b[90m━━━━━━━━━━━━━━━━━━━━━━━━━━━━━━━━━━━━━━━━\u001b[0m \u001b[32m58.2/58.2 kB\u001b[0m \u001b[31m4.5 MB/s\u001b[0m eta \u001b[36m0:00:00\u001b[0m\n",
            "\u001b[?25h  Building wheel for biom-format (pyproject.toml) ... \u001b[?25l\u001b[?25hdone\n"
          ]
        }
      ]
    },
    {
      "cell_type": "code",
      "source": [
        "import skbio\n",
        "skbio.__version__"
      ],
      "metadata": {
        "colab": {
          "base_uri": "https://localhost:8080/",
          "height": 35
        },
        "id": "XdBlnJMUC0eh",
        "outputId": "502871ff-eee1-43d3-87bf-449ddacbd966"
      },
      "execution_count": 3,
      "outputs": [
        {
          "output_type": "execute_result",
          "data": {
            "text/plain": [
              "'0.7.0'"
            ],
            "application/vnd.google.colaboratory.intrinsic+json": {
              "type": "string"
            }
          },
          "metadata": {},
          "execution_count": 3
        }
      ]
    },
    {
      "cell_type": "code",
      "source": [
        "!wget -q \"https://raw.githubusercontent.com/scikit-bio/scikit-bio-tutorials/main/01-basic-bioinfo/data/il6.ffn\""
      ],
      "metadata": {
        "id": "UI8HmaOMDROl"
      },
      "execution_count": 4,
      "outputs": []
    },
    {
      "cell_type": "code",
      "source": [
        "from skbio import DNA"
      ],
      "metadata": {
        "id": "X_1CzWf2DRjd"
      },
      "execution_count": 5,
      "outputs": []
    },
    {
      "cell_type": "code",
      "source": [
        "seqs = []\n",
        "for seq in skbio.io.read('il6.ffn', format='fasta', constructor=DNA):\n",
        "  seqs.append(seq)"
      ],
      "metadata": {
        "id": "GJZm4s-oDgqd"
      },
      "execution_count": 8,
      "outputs": []
    },
    {
      "cell_type": "code",
      "source": [
        "human = seqs[0]\n",
        "human"
      ],
      "metadata": {
        "colab": {
          "base_uri": "https://localhost:8080/"
        },
        "id": "uaTGbukwEbEn",
        "outputId": "611d89b0-e473-4eb3-9936-5b04e1504e71"
      },
      "execution_count": 9,
      "outputs": [
        {
          "output_type": "execute_result",
          "data": {
            "text/plain": [
              "DNA\n",
              "---------------------------------------------------------------------\n",
              "Metadata:\n",
              "    'description': ''\n",
              "    'id': 'human'\n",
              "Stats:\n",
              "    length: 639\n",
              "    has gaps: False\n",
              "    has degenerates: False\n",
              "    has definites: True\n",
              "    GC-content: 50.23%\n",
              "---------------------------------------------------------------------\n",
              "0   ATGAACTCCT TCTCCACAAG CGCCTTCGGT CCAGTTGCCT TCTCCCTGGG GCTGCTCCTG\n",
              "60  GTGTTGCCTG CTGCCTTCCC TGCCCCAGTA CCCCCAGGAG AAGATTCCAA AGATGTAGCC\n",
              "...\n",
              "540 GCACAGAACC AGTGGCTGCA GGACATGACA ACTCATCTCA TTCTGCGCAG CTTTAAGGAG\n",
              "600 TTCCTGCAGT CCAGCCTGAG GGCTCTTCGG CAAATGTAG"
            ]
          },
          "metadata": {},
          "execution_count": 9
        }
      ]
    },
    {
      "cell_type": "code",
      "source": [
        "mouse = seqs[1]\n",
        "mouse"
      ],
      "metadata": {
        "colab": {
          "base_uri": "https://localhost:8080/"
        },
        "id": "x5Qk3mg4F08w",
        "outputId": "9bf1b392-5541-48ab-81f7-02ca827c03d2"
      },
      "execution_count": 10,
      "outputs": [
        {
          "output_type": "execute_result",
          "data": {
            "text/plain": [
              "DNA\n",
              "---------------------------------------------------------------------\n",
              "Metadata:\n",
              "    'description': ''\n",
              "    'id': 'mouse'\n",
              "Stats:\n",
              "    length: 636\n",
              "    has gaps: False\n",
              "    has degenerates: False\n",
              "    has definites: True\n",
              "    GC-content: 41.35%\n",
              "---------------------------------------------------------------------\n",
              "0   ATGAAGTTCC TCTCTGCAAG AGACTTCCAT CCAGTTGCCT TCTTGGGACT GATGCTGGTG\n",
              "60  ACAACCACGG CCTTCCCTAC TTCACAAGTC CGGAGAGGAG ACTTCACAGA GGATACCACT\n",
              "...\n",
              "540 CAGAAGGAGT GGCTAAGGAC CAAGACCATC CAATTCATCT TGAAATCACT TGAAGAATTT\n",
              "600 CTAAAAGTCA CTTTGAGATC TACTCGGCAA ACCTAG"
            ]
          },
          "metadata": {},
          "execution_count": 10
        }
      ]
    },
    {
      "cell_type": "code",
      "source": [
        "human._bytes[:100]"
      ],
      "metadata": {
        "colab": {
          "base_uri": "https://localhost:8080/"
        },
        "id": "_fZt-_WbGCez",
        "outputId": "a84a74c7-24ef-49ff-ace7-4389697fa369"
      },
      "execution_count": 12,
      "outputs": [
        {
          "output_type": "execute_result",
          "data": {
            "text/plain": [
              "array([65, 84, 71, 65, 65, 67, 84, 67, 67, 84, 84, 67, 84, 67, 67, 65, 67,\n",
              "       65, 65, 71, 67, 71, 67, 67, 84, 84, 67, 71, 71, 84, 67, 67, 65, 71,\n",
              "       84, 84, 71, 67, 67, 84, 84, 67, 84, 67, 67, 67, 84, 71, 71, 71, 71,\n",
              "       67, 84, 71, 67, 84, 67, 67, 84, 71, 71, 84, 71, 84, 84, 71, 67, 67,\n",
              "       84, 71, 67, 84, 71, 67, 67, 84, 84, 67, 67, 67, 84, 71, 67, 67, 67,\n",
              "       67, 65, 71, 84, 65, 67, 67, 67, 67, 67, 65, 71, 71, 65, 71],\n",
              "      dtype=uint8)"
            ]
          },
          "metadata": {},
          "execution_count": 12
        }
      ]
    },
    {
      "cell_type": "code",
      "source": [
        "human.reverse_complement()"
      ],
      "metadata": {
        "colab": {
          "base_uri": "https://localhost:8080/"
        },
        "id": "eXRnP-WFHmNu",
        "outputId": "1352ec10-ffc3-413a-fb8f-4138815abd82"
      },
      "execution_count": 13,
      "outputs": [
        {
          "output_type": "execute_result",
          "data": {
            "text/plain": [
              "DNA\n",
              "---------------------------------------------------------------------\n",
              "Metadata:\n",
              "    'description': ''\n",
              "    'id': 'human'\n",
              "Stats:\n",
              "    length: 639\n",
              "    has gaps: False\n",
              "    has degenerates: False\n",
              "    has definites: True\n",
              "    GC-content: 50.23%\n",
              "---------------------------------------------------------------------\n",
              "0   CTACATTTGC CGAAGAGCCC TCAGGCTGGA CTGCAGGAAC TCCTTAAAGC TGCGCAGAAT\n",
              "60  GAGATGAGTT GTCATGTCCT GCAGCCACTG GTTCTGTGCC TGCAGCTTCG TCAGCAGGCT\n",
              "...\n",
              "540 TCCTGGGGGT ACTGGGGCAG GGAAGGCAGC AGGCAACACC AGGAGCAGCC CCAGGGAGAA\n",
              "600 GGCAACTGGA CCGAAGGCGC TTGTGGAGAA GGAGTTCAT"
            ]
          },
          "metadata": {},
          "execution_count": 13
        }
      ]
    },
    {
      "cell_type": "code",
      "source": [
        "human.transcribe()"
      ],
      "metadata": {
        "colab": {
          "base_uri": "https://localhost:8080/"
        },
        "id": "r8JgtYyTIWjM",
        "outputId": "3fd83a9a-d86b-4e0a-8bb4-ec0f9ebbd2aa"
      },
      "execution_count": 14,
      "outputs": [
        {
          "output_type": "execute_result",
          "data": {
            "text/plain": [
              "RNA\n",
              "---------------------------------------------------------------------\n",
              "Metadata:\n",
              "    'description': ''\n",
              "    'id': 'human'\n",
              "Stats:\n",
              "    length: 639\n",
              "    has gaps: False\n",
              "    has degenerates: False\n",
              "    has definites: True\n",
              "    GC-content: 50.23%\n",
              "---------------------------------------------------------------------\n",
              "0   AUGAACUCCU UCUCCACAAG CGCCUUCGGU CCAGUUGCCU UCUCCCUGGG GCUGCUCCUG\n",
              "60  GUGUUGCCUG CUGCCUUCCC UGCCCCAGUA CCCCCAGGAG AAGAUUCCAA AGAUGUAGCC\n",
              "...\n",
              "540 GCACAGAACC AGUGGCUGCA GGACAUGACA ACUCAUCUCA UUCUGCGCAG CUUUAAGGAG\n",
              "600 UUCCUGCAGU CCAGCCUGAG GGCUCUUCGG CAAAUGUAG"
            ]
          },
          "metadata": {},
          "execution_count": 14
        }
      ]
    },
    {
      "cell_type": "code",
      "source": [
        "human.translate()"
      ],
      "metadata": {
        "colab": {
          "base_uri": "https://localhost:8080/"
        },
        "id": "RoeMXXSjJCu4",
        "outputId": "8c31f223-123f-469f-cebf-68c3037ce1f2"
      },
      "execution_count": 15,
      "outputs": [
        {
          "output_type": "execute_result",
          "data": {
            "text/plain": [
              "Protein\n",
              "---------------------------------------------------------------------\n",
              "Metadata:\n",
              "    'description': ''\n",
              "    'id': 'human'\n",
              "Stats:\n",
              "    length: 213\n",
              "    has gaps: False\n",
              "    has degenerates: False\n",
              "    has definites: True\n",
              "    has stops: True\n",
              "---------------------------------------------------------------------\n",
              "0   MNSFSTSAFG PVAFSLGLLL VLPAAFPAPV PPGEDSKDVA APHRQPLTSS ERIDKQIRYI\n",
              "60  LDGISALRKE TCNKSNMCES SKEALAENNL NLPKMAEKDG CFQSGFNEET CLVKIITGLL\n",
              "120 EFEVYLEYLQ NRFESSEEQA RAVQMSTKVL IQFLQKKAKN LDAITTPDPT TNASLLTKLQ\n",
              "180 AQNQWLQDMT THLILRSFKE FLQSSLRALR QM*"
            ]
          },
          "metadata": {},
          "execution_count": 15
        }
      ]
    },
    {
      "cell_type": "code",
      "source": [
        "from skbio.alignment import pair_align_nucl"
      ],
      "metadata": {
        "id": "U3_qTWLFJZ00"
      },
      "execution_count": 16,
      "outputs": []
    },
    {
      "cell_type": "code",
      "source": [
        "res = pair_align_nucl(human, mouse)"
      ],
      "metadata": {
        "id": "aLwtJj5sJ5Yn"
      },
      "execution_count": 17,
      "outputs": []
    },
    {
      "cell_type": "code",
      "source": [
        "res.score"
      ],
      "metadata": {
        "colab": {
          "base_uri": "https://localhost:8080/"
        },
        "id": "sKzmSehaKECY",
        "outputId": "96949fe4-41c6-435a-c079-45868e41377d"
      },
      "execution_count": 19,
      "outputs": [
        {
          "output_type": "execute_result",
          "data": {
            "text/plain": [
              "66.0"
            ]
          },
          "metadata": {},
          "execution_count": 19
        }
      ]
    },
    {
      "cell_type": "code",
      "source": [
        "path = res.paths[0]\n",
        "path"
      ],
      "metadata": {
        "colab": {
          "base_uri": "https://localhost:8080/"
        },
        "id": "6Ct_UbG4KUYO",
        "outputId": "9b3de72c-4fa0-4b85-959c-72d3842ab94d"
      },
      "execution_count": 20,
      "outputs": [
        {
          "output_type": "execute_result",
          "data": {
            "text/plain": [
              "<PairAlignPath, positions: 654, segments: 45, CIGAR: '43M3D88M1I6M1D12M2I4...'>"
            ]
          },
          "metadata": {},
          "execution_count": 20
        }
      ]
    },
    {
      "cell_type": "code",
      "source": [
        "from skbio.alignment import TabularMSA"
      ],
      "metadata": {
        "id": "25Aoc7-pK2rk"
      },
      "execution_count": 22,
      "outputs": []
    },
    {
      "cell_type": "markdown",
      "source": [],
      "metadata": {
        "id": "2ncLl6hiLrjM"
      }
    },
    {
      "cell_type": "code",
      "source": [
        "msa = TabularMSA.from_path_seqs(res.paths[0], (human, mouse))\n",
        "msa"
      ],
      "metadata": {
        "colab": {
          "base_uri": "https://localhost:8080/"
        },
        "id": "UWS3ABIALg0M",
        "outputId": "48f96c63-4d1e-427f-84b6-5d90ec9e22bb"
      },
      "execution_count": 23,
      "outputs": [
        {
          "output_type": "execute_result",
          "data": {
            "text/plain": [
              "TabularMSA[DNA]\n",
              "-----------------------------------------------------------------------\n",
              "Stats:\n",
              "    sequence count: 2\n",
              "    position count: 654\n",
              "-----------------------------------------------------------------------\n",
              "ATGAACTCCTTCTCCACAAGCGCCTTCGGTCCA ... CAGTCCAGCCTGAGGGCTCTTCGGCAAATGTAG\n",
              "ATGAAGTTCCTCTCTGCAAGAGACTTCCATCCA ... AAGTC-ACTTTGAGATCTACTCGGCAAACCTAG"
            ]
          },
          "metadata": {},
          "execution_count": 23
        }
      ]
    },
    {
      "cell_type": "markdown",
      "source": [],
      "metadata": {
        "id": "I3mrumPTMXy6"
      }
    },
    {
      "cell_type": "code",
      "source": [
        "path.lengths"
      ],
      "metadata": {
        "colab": {
          "base_uri": "https://localhost:8080/"
        },
        "id": "V_-j03OQMZT-",
        "outputId": "c36b882c-57ca-4bc0-cbf5-8f0c6060ec67"
      },
      "execution_count": 25,
      "outputs": [
        {
          "output_type": "execute_result",
          "data": {
            "text/plain": [
              "array([ 43,   3,  88,   1,   6,   1,  12,   2,   4,   2,   6,   3,  50,\n",
              "         3,  10,   1,   8,   2, 155,   1,   9,   1,  10,   2,   3,   1,\n",
              "        16,   1,   3,   1,  88,   1,   5,   1,  27,   1,   5,   1,  23,\n",
              "         2,   2,   1,  21,   1,  27])"
            ]
          },
          "metadata": {},
          "execution_count": 25
        }
      ]
    },
    {
      "cell_type": "code",
      "source": [
        "path.lengths.sum()"
      ],
      "metadata": {
        "colab": {
          "base_uri": "https://localhost:8080/"
        },
        "id": "BocruVhvM_aJ",
        "outputId": "e47ef4e2-3a7b-4d6c-856a-c4ffebf65316"
      },
      "execution_count": 26,
      "outputs": [
        {
          "output_type": "execute_result",
          "data": {
            "text/plain": [
              "np.int64(654)"
            ]
          },
          "metadata": {},
          "execution_count": 26
        }
      ]
    },
    {
      "cell_type": "code",
      "source": [
        "path.states"
      ],
      "metadata": {
        "colab": {
          "base_uri": "https://localhost:8080/"
        },
        "id": "EG9OMYfMNYKn",
        "outputId": "24a90808-52ea-431c-cc29-576dd8e04bb2"
      },
      "execution_count": 27,
      "outputs": [
        {
          "output_type": "execute_result",
          "data": {
            "text/plain": [
              "array([[0, 2, 0, 1, 0, 2, 0, 1, 0, 2, 0, 2, 0, 1, 0, 2, 0, 2, 0, 2, 0, 1,\n",
              "        0, 1, 0, 1, 0, 2, 0, 1, 0, 1, 0, 2, 0, 2, 0, 1, 0, 1, 0, 2, 0, 2,\n",
              "        0]], dtype=uint8)"
            ]
          },
          "metadata": {},
          "execution_count": 27
        }
      ]
    },
    {
      "cell_type": "code",
      "source": [
        "path.to_cigar()"
      ],
      "metadata": {
        "colab": {
          "base_uri": "https://localhost:8080/",
          "height": 53
        },
        "id": "jBaKNLq6Ns9V",
        "outputId": "96a655d9-e509-4325-eacd-a97aaefacc87"
      },
      "execution_count": 29,
      "outputs": [
        {
          "output_type": "execute_result",
          "data": {
            "text/plain": [
              "'43M3D88M1I6M1D12M2I4M2D6M3D50M3I10M1D8M2D155M1D9M1I10M2I3M1I16M1D3M1I88M1I5M1D27M1D5M1I23M2I2M1D21M1D27M'"
            ],
            "application/vnd.google.colaboratory.intrinsic+json": {
              "type": "string"
            }
          },
          "metadata": {},
          "execution_count": 29
        }
      ]
    },
    {
      "cell_type": "code",
      "source": [
        "from skbio import SubstitutionMatrix"
      ],
      "metadata": {
        "id": "cxmodLZmN611"
      },
      "execution_count": 31,
      "outputs": []
    },
    {
      "cell_type": "code",
      "source": [
        "sm = SubstitutionMatrix.by_name('blosum62')\n",
        "sm"
      ],
      "metadata": {
        "colab": {
          "base_uri": "https://localhost:8080/"
        },
        "id": "feQMb2nPN6tj",
        "outputId": "f48b1ce3-f5d7-4147-d04a-57782ccf881c"
      },
      "execution_count": 32,
      "outputs": [
        {
          "output_type": "execute_result",
          "data": {
            "text/plain": [
              "<skbio.sequence._substitution.SubstitutionMatrix at 0x7eb6a1c8ca90>"
            ]
          },
          "metadata": {},
          "execution_count": 32
        }
      ]
    },
    {
      "cell_type": "code",
      "source": [
        "from skbio.alignment import pair_align_prot"
      ],
      "metadata": {
        "id": "dEv2gTKQOyDp"
      },
      "execution_count": 33,
      "outputs": []
    },
    {
      "cell_type": "code",
      "source": [
        "prots = human.translate(), mouse.translate()"
      ],
      "metadata": {
        "id": "YUtC27O2PMvr"
      },
      "execution_count": 34,
      "outputs": []
    },
    {
      "cell_type": "code",
      "source": [
        "score, paths, _ = pair_align_prot(*prots, sub_score=sm)\n",
        "score"
      ],
      "metadata": {
        "colab": {
          "base_uri": "https://localhost:8080/"
        },
        "id": "JB0ZuDbYPiyj",
        "outputId": "3fc0989a-ee0f-43d1-9fd8-aaa1703be43c"
      },
      "execution_count": 35,
      "outputs": [
        {
          "output_type": "execute_result",
          "data": {
            "text/plain": [
              "415.0"
            ]
          },
          "metadata": {},
          "execution_count": 35
        }
      ]
    },
    {
      "cell_type": "code",
      "source": [
        "msa = TabularMSA.from_path_seqs(paths[0], prots)\n",
        "msa"
      ],
      "metadata": {
        "colab": {
          "base_uri": "https://localhost:8080/"
        },
        "id": "lWdgVtpOQTGi",
        "outputId": "161e269f-55c3-4079-cb6d-aefcec2e2890"
      },
      "execution_count": 36,
      "outputs": [
        {
          "output_type": "execute_result",
          "data": {
            "text/plain": [
              "TabularMSA[Protein]\n",
              "-----------------------------------------------------------------------\n",
              "Stats:\n",
              "    sequence count: 2\n",
              "    position count: 214\n",
              "-----------------------------------------------------------------------\n",
              "MNSFSTSAFGPVAFSLGLLLVLPAAFPAPVPPG ... AQNQWLQDMTTHLILRSFKEFLQSSLRALRQM*\n",
              "MKFLSARDFHPVAF-LGLMLVTTTAFPTSQVRR ... SQKEWLRTKTIQFILKSLEEFLKVTLRSTRQT*"
            ]
          },
          "metadata": {},
          "execution_count": 36
        }
      ]
    },
    {
      "cell_type": "code",
      "source": [
        "prots = [seq.translate() for seq in seqs]"
      ],
      "metadata": {
        "id": "D9r8i0UgQvx_"
      },
      "execution_count": 38,
      "outputs": []
    },
    {
      "cell_type": "code",
      "source": [
        "names = ('human', 'mouse', 'rat', 'chicken', 'pig', 'chimp', 'monkey')"
      ],
      "metadata": {
        "id": "xzih-bHpRY6d"
      },
      "execution_count": 39,
      "outputs": []
    },
    {
      "cell_type": "code",
      "source": [
        "prot_dict = {name: sequence for name, sequence in zip(names, prots)}"
      ],
      "metadata": {
        "id": "xrsefIcvRyCa"
      },
      "execution_count": 40,
      "outputs": []
    },
    {
      "cell_type": "code",
      "source": [
        "prot_dict['pig']"
      ],
      "metadata": {
        "colab": {
          "base_uri": "https://localhost:8080/"
        },
        "id": "ANh99uHSSEtF",
        "outputId": "b206c421-61a3-4d84-9470-c8fc4a25ac25"
      },
      "execution_count": 41,
      "outputs": [
        {
          "output_type": "execute_result",
          "data": {
            "text/plain": [
              "Protein\n",
              "---------------------------------------------------------------------\n",
              "Metadata:\n",
              "    'description': ''\n",
              "    'id': 'pig'\n",
              "Stats:\n",
              "    length: 213\n",
              "    has gaps: False\n",
              "    has degenerates: False\n",
              "    has definites: True\n",
              "    has stops: True\n",
              "---------------------------------------------------------------------\n",
              "0   MNSLSTSAFS PVAFSLGLLL VMATAFPTPG RLEEDAKGDA TSDKMLFTSP DKTEELIKYI\n",
              "60  LGKISAMRKE MCEKYEKCEN SKEVLAENNL NLPKMAEKDG CFQSGFNQET CLMRITTGLV\n",
              "120 EFQIYLDYLQ KEYESNKGNV EAVQISTKAL IQTLRQKGKN PDKATTPNPT TNAGLLDKLQ\n",
              "180 SQNEWMKNTK IILILRSLED FLQFSLRAIR IM*"
            ]
          },
          "metadata": {},
          "execution_count": 41
        }
      ]
    },
    {
      "cell_type": "code",
      "source": [
        "from skbio import DistanceMatrix"
      ],
      "metadata": {
        "id": "OXjuzhIvSNcn"
      },
      "execution_count": 43,
      "outputs": []
    },
    {
      "cell_type": "code",
      "source": [
        "from skbio.sequence.distance import hamming"
      ],
      "metadata": {
        "id": "I_ZFtpKySsre"
      },
      "execution_count": 44,
      "outputs": []
    },
    {
      "cell_type": "code",
      "source": [
        "def align_dist(seq1, seq2):\n",
        "    res = pair_align_prot(seq1, seq2, sub_score=sm)\n",
        "    msa = TabularMSA.from_path_seqs(res.paths[0], (seq1, seq2))\n",
        "    return hamming(*msa)"
      ],
      "metadata": {
        "id": "O3DBExVYTJ4N"
      },
      "execution_count": 45,
      "outputs": []
    },
    {
      "cell_type": "code",
      "source": [
        "dm = DistanceMatrix.from_iterable(prots, align_dist, key='id', validate=False)\n",
        "dm"
      ],
      "metadata": {
        "colab": {
          "base_uri": "https://localhost:8080/"
        },
        "id": "IiypqaN8UBGR",
        "outputId": "2c6711f7-b5c6-4a7c-be25-ae2664714a59"
      },
      "execution_count": 46,
      "outputs": [
        {
          "output_type": "execute_result",
          "data": {
            "text/plain": [
              "<skbio.stats.distance._base.DistanceMatrix at 0x7eb69a9d4c50>"
            ]
          },
          "metadata": {},
          "execution_count": 46
        }
      ]
    },
    {
      "cell_type": "code",
      "source": [
        "dm.plot();"
      ],
      "metadata": {
        "colab": {
          "base_uri": "https://localhost:8080/",
          "height": 471
        },
        "id": "OEw8Da-QUqdx",
        "outputId": "6e1ef187-d869-4bf1-fff7-76da683da3bb"
      },
      "execution_count": 47,
      "outputs": [
        {
          "output_type": "display_data",
          "data": {
            "text/plain": [
              "<Figure size 640x480 with 2 Axes>"
            ],
            "image/png": "[encoded data removed]"
          },
          "metadata": {}
        }
      ]
    },
    {
      "cell_type": "code",
      "source": [
        "dm.data"
      ],
      "metadata": {
        "colab": {
          "base_uri": "https://localhost:8080/"
        },
        "id": "QuqFQoiRUx8C",
        "outputId": "4db71594-8501-40e4-d7ed-6005586c9de7"
      },
      "execution_count": 49,
      "outputs": [
        {
          "output_type": "execute_result",
          "data": {
            "text/plain": [
              "array([[0.        , 0.58878505, 0.59069767, 0.67346939, 0.38497653,\n",
              "        0.4082397 , 0.43866171],\n",
              "       [0.58878505, 0.        , 0.14622642, 0.76422764, 0.57476636,\n",
              "        0.76344086, 0.74909091],\n",
              "       [0.59069767, 0.14622642, 0.        , 0.74898785, 0.57476636,\n",
              "        0.76173285, 0.76173285],\n",
              "       [0.67346939, 0.76422764, 0.74898785, 0.        , 0.70247934,\n",
              "        0.74137931, 0.74825175],\n",
              "       [0.38497653, 0.57476636, 0.57476636, 0.70247934, 0.        ,\n",
              "        0.63768116, 0.64130435],\n",
              "       [0.4082397 , 0.76344086, 0.76173285, 0.74137931, 0.63768116,\n",
              "        0.        , 0.04347826],\n",
              "       [0.43866171, 0.74909091, 0.76173285, 0.74825175, 0.64130435,\n",
              "        0.04347826, 0.        ]])"
            ]
          },
          "metadata": {},
          "execution_count": 49
        }
      ]
    },
    {
      "cell_type": "code",
      "source": [
        "dm['human', 'mouse']"
      ],
      "metadata": {
        "colab": {
          "base_uri": "https://localhost:8080/"
        },
        "id": "WPBAF3y1U3Nj",
        "outputId": "21dcc387-dbc0-4f94-8603-0f1f849f498f"
      },
      "execution_count": 50,
      "outputs": [
        {
          "output_type": "execute_result",
          "data": {
            "text/plain": [
              "np.float64(0.5887850467289719)"
            ]
          },
          "metadata": {},
          "execution_count": 50
        }
      ]
    },
    {
      "cell_type": "code",
      "source": [
        "from scipy.cluster.hierarchy import average"
      ],
      "metadata": {
        "id": "RzamGh7kVFmo"
      },
      "execution_count": 51,
      "outputs": []
    },
    {
      "cell_type": "code",
      "source": [
        "guide_lm = average(dm.condensed_form())"
      ],
      "metadata": {
        "id": "0etqdcYCVR_y"
      },
      "execution_count": 52,
      "outputs": []
    },
    {
      "cell_type": "code",
      "source": [
        "from skbio import TreeNode"
      ],
      "metadata": {
        "id": "GvNp27JnVgoC"
      },
      "execution_count": 53,
      "outputs": []
    },
    {
      "cell_type": "code",
      "source": [
        "guide_tree = TreeNode.from_linkage_matrix(guide_lm, dm.ids)"
      ],
      "metadata": {
        "id": "jzDZIT8iVtUG"
      },
      "execution_count": 55,
      "outputs": []
    },
    {
      "cell_type": "code",
      "source": [
        "print(guide_tree.ascii_art())"
      ],
      "metadata": {
        "colab": {
          "base_uri": "https://localhost:8080/"
        },
        "id": "wlMuUgjZWNe0",
        "outputId": "61b56bbc-c329-4280-e3e1-d7c74e4ba6f0"
      },
      "execution_count": 58,
      "outputs": [
        {
          "output_type": "stream",
          "name": "stdout",
          "text": [
            "          /-chicken\n",
            "         |\n",
            "         |                    /-mouse\n",
            "---------|          /--------|\n",
            "         |         |          \\-rat\n",
            "         |         |\n",
            "          \\--------|                    /-chimp\n",
            "                   |          /--------|\n",
            "                   |         |          \\-monkey\n",
            "                    \\--------|\n",
            "                             |          /-human\n",
            "                              \\--------|\n",
            "                                        \\-pig\n"
          ]
        }
      ]
    },
    {
      "cell_type": "code",
      "source": [
        "from skbio.alignment import global_pairwise_align_protein"
      ],
      "metadata": {
        "id": "IKfzWjR7WozR"
      },
      "execution_count": 59,
      "outputs": []
    },
    {
      "cell_type": "code",
      "source": [
        "sm_dict = sm.to_dict()"
      ],
      "metadata": {
        "id": "ngm35t19WovN"
      },
      "execution_count": 60,
      "outputs": []
    },
    {
      "cell_type": "code",
      "source": [
        "def progessive_msa(query_seqs, guide_tree):\n",
        "    c1, c2 = guide_tree.children\n",
        "\n",
        "    if c1.is_tip():\n",
        "        c1_aln = query_seqs[c1.name]\n",
        "    else:\n",
        "        c1_aln = progessive_msa(query_seqs, c1)\n",
        "\n",
        "    if c2.is_tip():\n",
        "        c2_aln = query_seqs[c2.name]\n",
        "    else:\n",
        "        c2_aln = progessive_msa(query_seqs, c2)\n",
        "\n",
        "    return global_pairwise_align_protein(\n",
        "        c1_aln, c2_aln, substitution_matrix=sm_dict)[0]"
      ],
      "metadata": {
        "id": "UreMd0gfXO71"
      },
      "execution_count": 62,
      "outputs": []
    },
    {
      "cell_type": "code",
      "source": [
        "msa = progessive_msa(prot_dict, guide_tree)"
      ],
      "metadata": {
        "id": "PTWAJ2JdXRZA"
      },
      "execution_count": 63,
      "outputs": []
    },
    {
      "cell_type": "code",
      "source": [
        "msa"
      ],
      "metadata": {
        "colab": {
          "base_uri": "https://localhost:8080/"
        },
        "id": "BpYmCQZfZ5fP",
        "outputId": "04fe0cd0-acb3-46a1-ae23-67853dd7e533"
      },
      "execution_count": 64,
      "outputs": [
        {
          "output_type": "execute_result",
          "data": {
            "text/plain": [
              "TabularMSA[Protein]\n",
              "-----------------------------------------------------------------------\n",
              "Stats:\n",
              "    sequence count: 7\n",
              "    position count: 285\n",
              "-----------------------------------------------------------------------\n",
              "-------------------------------MN ... ITMHLILRDFTSFMEKTVRAVRYLKKTRSFSA*\n",
              "--------------------------------- ... KTIQFILKSLEEFLKVTLRSTRQT*--------\n",
              "...\n",
              "--------------------------------- ... MTTHLILRSFKEFLQSSLRALRQM*--------\n",
              "--------------------------------- ... TKIILILRSLEDFLQFSLRAIRIM*--------"
            ]
          },
          "metadata": {},
          "execution_count": 64
        }
      ]
    },
    {
      "cell_type": "code",
      "source": [
        "msa.shape"
      ],
      "metadata": {
        "colab": {
          "base_uri": "https://localhost:8080/"
        },
        "id": "jqEX5iYwaKyH",
        "outputId": "1a23f1d4-c911-4ddc-f00c-416998c9d918"
      },
      "execution_count": 66,
      "outputs": [
        {
          "output_type": "execute_result",
          "data": {
            "text/plain": [
              "Shape(sequence=7, position=285)"
            ]
          },
          "metadata": {},
          "execution_count": 66
        }
      ]
    },
    {
      "cell_type": "code",
      "source": [
        "msa.index"
      ],
      "metadata": {
        "colab": {
          "base_uri": "https://localhost:8080/"
        },
        "id": "GffTDuiCaOxo",
        "outputId": "69f88e64-0af8-4e74-9fef-458cff100b9c"
      },
      "execution_count": 68,
      "outputs": [
        {
          "output_type": "execute_result",
          "data": {
            "text/plain": [
              "RangeIndex(start=0, stop=7, step=1)"
            ]
          },
          "metadata": {},
          "execution_count": 68
        }
      ]
    },
    {
      "cell_type": "code",
      "source": [
        "msa.consensus()"
      ],
      "metadata": {
        "colab": {
          "base_uri": "https://localhost:8080/"
        },
        "id": "qH04b3_8aY-i",
        "outputId": "f64130bb-f71b-4e4c-e787-b1579e70de0d"
      },
      "execution_count": 69,
      "outputs": [
        {
          "output_type": "execute_result",
          "data": {
            "text/plain": [
              "Protein\n",
              "---------------------------------------------------------------------\n",
              "Stats:\n",
              "    length: 285\n",
              "    has gaps: True\n",
              "    has degenerates: False\n",
              "    has definites: True\n",
              "    has stops: True\n",
              "---------------------------------------------------------------------\n",
              "0   ---------- ---------- ---------- ---------- ---------- --MRSLFLST\n",
              "60  GAFGPVAFSL GLLLVLAAAF PAPVPPGEDS KDDAAPHRQP LTSSERIDKL IRYILDGISA\n",
              "120 LRKETCNKSN MCENSKEALA ENNLNLPKMA EKDGCFQSGF NEETCLVKII TGLLEFEVYL\n",
              "180 EYLQNRFESS E-EQARAVQM STKVLIQFLQ QK-------- -GKNEDKIVK PDPTDNAGLL\n",
              "240 CKLQSQKEWL NKKTIHLILR SLEEFLKVTL RATRQM*--- -----"
            ]
          },
          "metadata": {},
          "execution_count": 69
        }
      ]
    },
    {
      "cell_type": "code",
      "source": [
        "conserv = msa.conservation(gap_mode='include')"
      ],
      "metadata": {
        "id": "OLvQg-kHamDI"
      },
      "execution_count": 70,
      "outputs": []
    },
    {
      "cell_type": "code",
      "source": [
        "conserv[100:110]"
      ],
      "metadata": {
        "colab": {
          "base_uri": "https://localhost:8080/"
        },
        "id": "iHSOHrlfa5uO",
        "outputId": "e870cc62-a28e-49a7-f928-050d5c257394"
      },
      "execution_count": 71,
      "outputs": [
        {
          "output_type": "execute_result",
          "data": {
            "text/plain": [
              "array([0.59271675, 0.86920202, 0.6951996 , 0.74603313, 0.59271675,\n",
              "       0.59271675, 0.59271675, 0.65587811, 0.59271675, 0.6951996 ])"
            ]
          },
          "metadata": {},
          "execution_count": 71
        }
      ]
    },
    {
      "cell_type": "code",
      "source": [
        "(conserv == 1.0).sum()"
      ],
      "metadata": {
        "colab": {
          "base_uri": "https://localhost:8080/"
        },
        "id": "V8nGJCPDbDxf",
        "outputId": "765c7e92-73be-4152-efe3-a3c91303e33b"
      },
      "execution_count": 72,
      "outputs": [
        {
          "output_type": "execute_result",
          "data": {
            "text/plain": [
              "np.int64(27)"
            ]
          },
          "metadata": {},
          "execution_count": 72
        }
      ]
    },
    {
      "cell_type": "code",
      "source": [
        "res = []\n",
        "for i, value in enumerate(conserv):\n",
        "    if value == 1.0:\n",
        "        res.append((i, str(msa[0][i])))"
      ],
      "metadata": {
        "id": "9_AQ_Pk6bQcr"
      },
      "execution_count": 73,
      "outputs": []
    },
    {
      "cell_type": "code",
      "source": [
        "print(res)"
      ],
      "metadata": {
        "colab": {
          "base_uri": "https://localhost:8080/"
        },
        "id": "ta7dh1BCbxu0",
        "outputId": "eb680c61-2aad-44ca-8a70-1a63bad9e951"
      },
      "execution_count": 74,
      "outputs": [
        {
          "output_type": "stream",
          "name": "stdout",
          "text": [
            "[(64, 'P'), (69, 'L'), (71, 'L'), (73, 'L'), (78, 'A'), (80, 'P'), (123, 'E'), (125, 'C'), (131, 'C'), (138, 'L'), (141, 'N'), (142, 'N'), (143, 'L'), (145, 'L'), (146, 'P'), (152, 'D'), (153, 'G'), (154, 'C'), (158, 'G'), (164, 'C'), (165, 'L'), (171, 'G'), (172, 'L'), (178, 'Y'), (179, 'L'), (201, 'T'), (204, 'L')]\n"
          ]
        }
      ]
    },
    {
      "cell_type": "code",
      "source": [
        "import matplotlib.pyplot as plt"
      ],
      "metadata": {
        "id": "iIEyWC4cb6JZ"
      },
      "execution_count": 75,
      "outputs": []
    },
    {
      "cell_type": "code",
      "source": [
        "plt.figure(figsize=(12,3))\n",
        "plt.plot(range(len(conserv)), conserv)\n",
        "plt.xlabel('Position')\n",
        "plt.ylabel('Conservation')\n",
        "plt.title('Positional Conservation Plot');"
      ],
      "metadata": {
        "colab": {
          "base_uri": "https://localhost:8080/",
          "height": 216
        },
        "id": "F-BHfCyocIBo",
        "outputId": "02e53bbe-cc54-4c44-bb45-74c6860ac9ec"
      },
      "execution_count": 76,
      "outputs": [
        {
          "output_type": "display_data",
          "data": {
            "text/plain": [
              "<Figure size 1200x300 with 1 Axes>"
            ],
            "image/png": "[encoded data removed]"
          },
          "metadata": {}
        }
      ]
    },
    {
      "cell_type": "code",
      "source": [
        "dm_msa = DistanceMatrix.from_iterable(msa, hamming, key='id', validate=False)\n",
        "dm_msa.plot();"
      ],
      "metadata": {
        "colab": {
          "base_uri": "https://localhost:8080/",
          "height": 471
        },
        "id": "LP8IlsomdSg2",
        "outputId": "34500119-64ea-41b0-c4a0-b694b046e1c1"
      },
      "execution_count": 77,
      "outputs": [
        {
          "output_type": "display_data",
          "data": {
            "text/plain": [
              "<Figure size 640x480 with 2 Axes>"
            ],
            "image/png": "[encoded data removed]"
          },
          "metadata": {}
        }
      ]
    },
    {
      "cell_type": "code",
      "source": [
        "from skbio.tree import nj"
      ],
      "metadata": {
        "id": "gbNuvr8Zd06o"
      },
      "execution_count": 78,
      "outputs": []
    },
    {
      "cell_type": "code",
      "source": [
        "tree = nj(dm)"
      ],
      "metadata": {
        "id": "KYuc4KUad8_I"
      },
      "execution_count": 79,
      "outputs": []
    },
    {
      "cell_type": "code",
      "source": [
        "tree = tree.root_at_midpoint()"
      ],
      "metadata": {
        "id": "9uhyoIkweBQf"
      },
      "execution_count": 80,
      "outputs": []
    },
    {
      "cell_type": "code",
      "source": [
        "print(tree.ascii_art())"
      ],
      "metadata": {
        "colab": {
          "base_uri": "https://localhost:8080/"
        },
        "id": "80Ifpv5SeQ68",
        "outputId": "94870313-8eaf-4622-93da-ebaa3f1ccb22"
      },
      "execution_count": 81,
      "outputs": [
        {
          "output_type": "stream",
          "name": "stdout",
          "text": [
            "          /-chicken\n",
            "         |\n",
            "         |                    /-mouse\n",
            "---------|          /--------|\n",
            "         |         |          \\-rat\n",
            "         |         |\n",
            "          \\--------|                    /-human\n",
            "                   |          /--------|\n",
            "                   |         |         |          /-chimp\n",
            "                    \\--------|          \\--------|\n",
            "                             |                    \\-monkey\n",
            "                             |\n",
            "                              \\-pig\n"
          ]
        }
      ]
    }
  ]
}