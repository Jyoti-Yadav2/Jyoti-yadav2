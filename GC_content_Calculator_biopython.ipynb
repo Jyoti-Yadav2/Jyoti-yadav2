{
  "nbformat": 4,
  "nbformat_minor": 0,
  "metadata": {
    "colab": {
      "provenance": [],
      "authorship_tag": "ABX9TyPL6QbCUjLiTe8kxeK3Aa2X",
      "include_colab_link": true
    },
    "kernelspec": {
      "name": "python3",
      "display_name": "Python 3"
    },
    "language_info": {
      "name": "python"
    }
  },
  "cells": [
    {
      "cell_type": "markdown",
      "metadata": {
        "id": "view-in-github",
        "colab_type": "text"
      },
      "source": [
        "<a href=\"https://colab.research.google.com/github/Jyoti-Yadav2/Bioinfo/blob/main/GC_content_Calculator_biopython.ipynb\" target=\"_parent\"><img src=\"https://colab.research.google.com/assets/colab-badge.svg\" alt=\"Open In Colab\"/></a>"
      ]
    },
    {
      "cell_type": "code",
      "source": [
        "!pip install Biopython"
      ],
      "metadata": {
        "colab": {
          "base_uri": "https://localhost:8080/"
        },
        "id": "hM-NVcf_N62v",
        "outputId": "9dab423d-89aa-45c2-d369-5369c47603e5"
      },
      "execution_count": 5,
      "outputs": [
        {
          "output_type": "stream",
          "name": "stdout",
          "text": [
            "Collecting Biopython\n",
            "  Downloading biopython-1.85-cp311-cp311-manylinux_2_17_x86_64.manylinux2014_x86_64.whl.metadata (13 kB)\n",
            "Requirement already satisfied: numpy in /usr/local/lib/python3.11/dist-packages (from Biopython) (2.0.2)\n",
            "Downloading biopython-1.85-cp311-cp311-manylinux_2_17_x86_64.manylinux2014_x86_64.whl (3.3 MB)\n",
            "\u001b[2K   \u001b[90m━━━━━━━━━━━━━━━━━━━━━━━━━━━━━━━━━━━━━━━━\u001b[0m \u001b[32m3.3/3.3 MB\u001b[0m \u001b[31m31.8 MB/s\u001b[0m eta \u001b[36m0:00:00\u001b[0m\n",
            "\u001b[?25hInstalling collected packages: Biopython\n",
            "Successfully installed Biopython-1.85\n"
          ]
        }
      ]
    },
    {
      "cell_type": "code",
      "source": [
        "from google.colab import files\n",
        "\n",
        "uploaded = files.upload()"
      ],
      "metadata": {
        "colab": {
          "base_uri": "https://localhost:8080/",
          "height": 73
        },
        "id": "SfX4lw6wPIsp",
        "outputId": "9b2f75a1-44f8-403b-81aa-9c888971bd19"
      },
      "execution_count": 15,
      "outputs": [
        {
          "output_type": "display_data",
          "data": {
            "text/plain": [
              "<IPython.core.display.HTML object>"
            ],
            "text/html": [
              "\n",
              "     <input type=\"file\" id=\"files-1595188a-889e-4831-8fb3-5a93c5de6d04\" name=\"files[]\" multiple disabled\n",
              "        style=\"border:none\" />\n",
              "     <output id=\"result-1595188a-889e-4831-8fb3-5a93c5de6d04\">\n",
              "      Upload widget is only available when the cell has been executed in the\n",
              "      current browser session. Please rerun this cell to enable.\n",
              "      </output>\n",
              "      <script>// Copyright 2017 Google LLC\n",
              "//\n",
              "// Licensed under the Apache License, Version 2.0 (the \"License\");\n",
              "// you may not use this file except in compliance with the License.\n",
              "// You may obtain a copy of the License at\n",
              "//\n",
              "//      http://www.apache.org/licenses/LICENSE-2.0\n",
              "//\n",
              "// Unless required by applicable law or agreed to in writing, software\n",
              "// distributed under the License is distributed on an \"AS IS\" BASIS,\n",
              "// WITHOUT WARRANTIES OR CONDITIONS OF ANY KIND, either express or implied.\n",
              "// See the License for the specific language governing permissions and\n",
              "// limitations under the License.\n",
              "\n",
              "/**\n",
              " * @fileoverview Helpers for google.colab Python module.\n",
              " */\n",
              "(function(scope) {\n",
              "function span(text, styleAttributes = {}) {\n",
              "  const element = document.createElement('span');\n",
              "  element.textContent = text;\n",
              "  for (const key of Object.keys(styleAttributes)) {\n",
              "    element.style[key] = styleAttributes[key];\n",
              "  }\n",
              "  return element;\n",
              "}\n",
              "\n",
              "// Max number of bytes which will be uploaded at a time.\n",
              "const MAX_PAYLOAD_SIZE = 100 * 1024;\n",
              "\n",
              "function _uploadFiles(inputId, outputId) {\n",
              "  const steps = uploadFilesStep(inputId, outputId);\n",
              "  const outputElement = document.getElementById(outputId);\n",
              "  // Cache steps on the outputElement to make it available for the next call\n",
              "  // to uploadFilesContinue from Python.\n",
              "  outputElement.steps = steps;\n",
              "\n",
              "  return _uploadFilesContinue(outputId);\n",
              "}\n",
              "\n",
              "// This is roughly an async generator (not supported in the browser yet),\n",
              "// where there are multiple asynchronous steps and the Python side is going\n",
              "// to poll for completion of each step.\n",
              "// This uses a Promise to block the python side on completion of each step,\n",
              "// then passes the result of the previous step as the input to the next step.\n",
              "function _uploadFilesContinue(outputId) {\n",
              "  const outputElement = document.getElementById(outputId);\n",
              "  const steps = outputElement.steps;\n",
              "\n",
              "  const next = steps.next(outputElement.lastPromiseValue);\n",
              "  return Promise.resolve(next.value.promise).then((value) => {\n",
              "    // Cache the last promise value to make it available to the next\n",
              "    // step of the generator.\n",
              "    outputElement.lastPromiseValue = value;\n",
              "    return next.value.response;\n",
              "  });\n",
              "}\n",
              "\n",
              "/**\n",
              " * Generator function which is called between each async step of the upload\n",
              " * process.\n",
              " * @param {string} inputId Element ID of the input file picker element.\n",
              " * @param {string} outputId Element ID of the output display.\n",
              " * @return {!Iterable<!Object>} Iterable of next steps.\n",
              " */\n",
              "function* uploadFilesStep(inputId, outputId) {\n",
              "  const inputElement = document.getElementById(inputId);\n",
              "  inputElement.disabled = false;\n",
              "\n",
              "  const outputElement = document.getElementById(outputId);\n",
              "  outputElement.innerHTML = '';\n",
              "\n",
              "  const pickedPromise = new Promise((resolve) => {\n",
              "    inputElement.addEventListener('change', (e) => {\n",
              "      resolve(e.target.files);\n",
              "    });\n",
              "  });\n",
              "\n",
              "  const cancel = document.createElement('button');\n",
              "  inputElement.parentElement.appendChild(cancel);\n",
              "  cancel.textContent = 'Cancel upload';\n",
              "  const cancelPromise = new Promise((resolve) => {\n",
              "    cancel.onclick = () => {\n",
              "      resolve(null);\n",
              "    };\n",
              "  });\n",
              "\n",
              "  // Wait for the user to pick the files.\n",
              "  const files = yield {\n",
              "    promise: Promise.race([pickedPromise, cancelPromise]),\n",
              "    response: {\n",
              "      action: 'starting',\n",
              "    }\n",
              "  };\n",
              "\n",
              "  cancel.remove();\n",
              "\n",
              "  // Disable the input element since further picks are not allowed.\n",
              "  inputElement.disabled = true;\n",
              "\n",
              "  if (!files) {\n",
              "    return {\n",
              "      response: {\n",
              "        action: 'complete',\n",
              "      }\n",
              "    };\n",
              "  }\n",
              "\n",
              "  for (const file of files) {\n",
              "    const li = document.createElement('li');\n",
              "    li.append(span(file.name, {fontWeight: 'bold'}));\n",
              "    li.append(span(\n",
              "        `(${file.type || 'n/a'}) - ${file.size} bytes, ` +\n",
              "        `last modified: ${\n",
              "            file.lastModifiedDate ? file.lastModifiedDate.toLocaleDateString() :\n",
              "                                    'n/a'} - `));\n",
              "    const percent = span('0% done');\n",
              "    li.appendChild(percent);\n",
              "\n",
              "    outputElement.appendChild(li);\n",
              "\n",
              "    const fileDataPromise = new Promise((resolve) => {\n",
              "      const reader = new FileReader();\n",
              "      reader.onload = (e) => {\n",
              "        resolve(e.target.result);\n",
              "      };\n",
              "      reader.readAsArrayBuffer(file);\n",
              "    });\n",
              "    // Wait for the data to be ready.\n",
              "    let fileData = yield {\n",
              "      promise: fileDataPromise,\n",
              "      response: {\n",
              "        action: 'continue',\n",
              "      }\n",
              "    };\n",
              "\n",
              "    // Use a chunked sending to avoid message size limits. See b/62115660.\n",
              "    let position = 0;\n",
              "    do {\n",
              "      const length = Math.min(fileData.byteLength - position, MAX_PAYLOAD_SIZE);\n",
              "      const chunk = new Uint8Array(fileData, position, length);\n",
              "      position += length;\n",
              "\n",
              "      const base64 = btoa(String.fromCharCode.apply(null, chunk));\n",
              "      yield {\n",
              "        response: {\n",
              "          action: 'append',\n",
              "          file: file.name,\n",
              "          data: base64,\n",
              "        },\n",
              "      };\n",
              "\n",
              "      let percentDone = fileData.byteLength === 0 ?\n",
              "          100 :\n",
              "          Math.round((position / fileData.byteLength) * 100);\n",
              "      percent.textContent = `${percentDone}% done`;\n",
              "\n",
              "    } while (position < fileData.byteLength);\n",
              "  }\n",
              "\n",
              "  // All done.\n",
              "  yield {\n",
              "    response: {\n",
              "      action: 'complete',\n",
              "    }\n",
              "  };\n",
              "}\n",
              "\n",
              "scope.google = scope.google || {};\n",
              "scope.google.colab = scope.google.colab || {};\n",
              "scope.google.colab._files = {\n",
              "  _uploadFiles,\n",
              "  _uploadFilesContinue,\n",
              "};\n",
              "})(self);\n",
              "</script> "
            ]
          },
          "metadata": {}
        },
        {
          "output_type": "stream",
          "name": "stdout",
          "text": [
            "Saving sequence.fasta.txt to sequence.fasta.txt\n"
          ]
        }
      ]
    },
    {
      "cell_type": "code",
      "source": [
        "from Bio import SeqIO"
      ],
      "metadata": {
        "id": "XehvmdKtMah7"
      },
      "execution_count": 18,
      "outputs": []
    },
    {
      "cell_type": "code",
      "metadata": {
        "id": "4a0b2a2b"
      },
      "source": [
        "filename = \"sequence.fasta.txt\""
      ],
      "execution_count": 21,
      "outputs": []
    },
    {
      "cell_type": "code",
      "source": [
        "seq_object=SeqIO.read(filename,\"fasta\")"
      ],
      "metadata": {
        "id": "wc9TFrj3OQCz"
      },
      "execution_count": 22,
      "outputs": []
    },
    {
      "cell_type": "code",
      "source": [
        "type(seq_object)"
      ],
      "metadata": {
        "colab": {
          "base_uri": "https://localhost:8080/",
          "height": 309
        },
        "id": "sgmFEe6FSkhI",
        "outputId": "f368b165-7530-4584-e142-4b9e5e88b833"
      },
      "execution_count": 24,
      "outputs": [
        {
          "output_type": "execute_result",
          "data": {
            "text/plain": [
              "Bio.SeqRecord.SeqRecord"
            ],
            "text/html": [
              "<div style=\"max-width:800px; border: 1px solid var(--colab-border-color);\"><style>\n",
              "      pre.function-repr-contents {\n",
              "        overflow-x: auto;\n",
              "        padding: 8px 12px;\n",
              "        max-height: 500px;\n",
              "      }\n",
              "\n",
              "      pre.function-repr-contents.function-repr-contents-collapsed {\n",
              "        cursor: pointer;\n",
              "        max-height: 100px;\n",
              "      }\n",
              "    </style>\n",
              "    <pre style=\"white-space: initial; background:\n",
              "         var(--colab-secondary-surface-color); padding: 8px 12px;\n",
              "         border-bottom: 1px solid var(--colab-border-color);\"><b>Bio.SeqRecord.SeqRecord</b><br/>def __init__(seq: Optional[Union[&#x27;Seq&#x27;, &#x27;MutableSeq&#x27;]], id: Optional[str]=&#x27;&lt;unknown id&gt;&#x27;, name: str=&#x27;&lt;unknown name&gt;&#x27;, description: str=&#x27;&lt;unknown description&gt;&#x27;, dbxrefs: Optional[list[str]]=None, features: Optional[list[&#x27;SeqFeature&#x27;]]=None, annotations: Optional[_AnnotationsDict]=None, letter_annotations: Optional[dict[str, Sequence[Any]]]=None) -&gt; None</pre><pre class=\"function-repr-contents function-repr-contents-collapsed\" style=\"\"><a class=\"filepath\" style=\"display:none\" href=\"#\">/usr/local/lib/python3.11/dist-packages/Bio/SeqRecord.py</a>A SeqRecord object holds a sequence and information about it.\n",
              "\n",
              "Main attributes:\n",
              " - id          - Identifier such as a locus tag (string)\n",
              " - seq         - The sequence itself (Seq object or similar)\n",
              "\n",
              "Additional attributes:\n",
              " - name        - Sequence name, e.g. gene name (string)\n",
              " - description - Additional text (string)\n",
              " - dbxrefs     - List of database cross references (list of strings)\n",
              " - features    - Any (sub)features defined (list of SeqFeature objects)\n",
              " - annotations - Further information about the whole sequence (dictionary).\n",
              "   Most entries are strings, or lists of strings.\n",
              " - letter_annotations - Per letter/symbol annotation (restricted\n",
              "   dictionary). This holds Python sequences (lists, strings\n",
              "   or tuples) whose length matches that of the sequence.\n",
              "   A typical use would be to hold a list of integers\n",
              "   representing sequencing quality scores, or a string\n",
              "   representing the secondary structure.\n",
              "\n",
              "You will typically use Bio.SeqIO to read in sequences from files as\n",
              "SeqRecord objects.  However, you may want to create your own SeqRecord\n",
              "objects directly (see the __init__ method for further details):\n",
              "\n",
              "&gt;&gt;&gt; from Bio.Seq import Seq\n",
              "&gt;&gt;&gt; from Bio.SeqRecord import SeqRecord\n",
              "&gt;&gt;&gt; record = SeqRecord(Seq(&quot;MKQHKAMIVALIVICITAVVAALVTRKDLCEVHIRTGQTEVAVF&quot;),\n",
              "...                    id=&quot;YP_025292.1&quot;, name=&quot;HokC&quot;,\n",
              "...                    description=&quot;toxic membrane protein&quot;)\n",
              "&gt;&gt;&gt; print(record)\n",
              "ID: YP_025292.1\n",
              "Name: HokC\n",
              "Description: toxic membrane protein\n",
              "Number of features: 0\n",
              "Seq(&#x27;MKQHKAMIVALIVICITAVVAALVTRKDLCEVHIRTGQTEVAVF&#x27;)\n",
              "\n",
              "If you want to save SeqRecord objects to a sequence file, use Bio.SeqIO\n",
              "for this.  For the special case where you want the SeqRecord turned into\n",
              "a string in a particular file format there is a format method which uses\n",
              "Bio.SeqIO internally:\n",
              "\n",
              "&gt;&gt;&gt; print(record.format(&quot;fasta&quot;))\n",
              "&gt;YP_025292.1 toxic membrane protein\n",
              "MKQHKAMIVALIVICITAVVAALVTRKDLCEVHIRTGQTEVAVF\n",
              "&lt;BLANKLINE&gt;\n",
              "\n",
              "You can also do things like slicing a SeqRecord, checking its length, etc\n",
              "\n",
              "&gt;&gt;&gt; len(record)\n",
              "44\n",
              "&gt;&gt;&gt; edited = record[:10] + record[11:]\n",
              "&gt;&gt;&gt; print(edited.seq)\n",
              "MKQHKAMIVAIVICITAVVAALVTRKDLCEVHIRTGQTEVAVF\n",
              "&gt;&gt;&gt; print(record.seq)\n",
              "MKQHKAMIVALIVICITAVVAALVTRKDLCEVHIRTGQTEVAVF</pre>\n",
              "      <script>\n",
              "      if (google.colab.kernel.accessAllowed && google.colab.files && google.colab.files.view) {\n",
              "        for (const element of document.querySelectorAll('.filepath')) {\n",
              "          element.style.display = 'block'\n",
              "          element.onclick = (event) => {\n",
              "            event.preventDefault();\n",
              "            event.stopPropagation();\n",
              "            google.colab.files.view(element.textContent, 117);\n",
              "          };\n",
              "        }\n",
              "      }\n",
              "      for (const element of document.querySelectorAll('.function-repr-contents')) {\n",
              "        element.onclick = (event) => {\n",
              "          event.preventDefault();\n",
              "          event.stopPropagation();\n",
              "          element.classList.toggle('function-repr-contents-collapsed');\n",
              "        };\n",
              "      }\n",
              "      </script>\n",
              "      </div>"
            ]
          },
          "metadata": {},
          "execution_count": 24
        }
      ]
    },
    {
      "cell_type": "code",
      "source": [
        "seq_id=seq_object.id\n",
        "print(seq_id)"
      ],
      "metadata": {
        "colab": {
          "base_uri": "https://localhost:8080/"
        },
        "id": "kkL3CMZKSkef",
        "outputId": "a47e6e83-a4eb-45a3-aa62-972bd91bacdf"
      },
      "execution_count": 28,
      "outputs": [
        {
          "output_type": "stream",
          "name": "stdout",
          "text": [
            "AB464149.1\n"
          ]
        }
      ]
    },
    {
      "cell_type": "code",
      "source": [
        "description=seq_object.description\n",
        "print(description)"
      ],
      "metadata": {
        "colab": {
          "base_uri": "https://localhost:8080/"
        },
        "id": "mUx7zzQaSkRD",
        "outputId": "3f9307a5-b4ff-46a0-9bb9-0ba24fc0b8be"
      },
      "execution_count": 31,
      "outputs": [
        {
          "output_type": "stream",
          "name": "stdout",
          "text": [
            "AB464149.1 Synthetic construct DNA, clone: pF1KB6724, Homo sapiens RBP1 gene for retinol binding protein 1, without stop codon, in Flexi system\n"
          ]
        }
      ]
    },
    {
      "cell_type": "code",
      "source": [
        "sequence = seq_object.seq\n",
        "print(sequence)"
      ],
      "metadata": {
        "colab": {
          "base_uri": "https://localhost:8080/"
        },
        "id": "ytN_3y68UfxY",
        "outputId": "fcae0a5f-f56a-4d05-9cfb-0800142e9743"
      },
      "execution_count": 32,
      "outputs": [
        {
          "output_type": "stream",
          "name": "stdout",
          "text": [
            "GCGATCGCCATGCCAGTCGACTTCACTGGGTACTGGAAGATGTTGGTCAACGAGAATTTCGAGGAGTACCTGCGCGCCCTCGACGTCAATGTGGCCTTGCGCAAAATCGCCAACTTGCTGAAGCCAGACAAAGAGATCGTGCAGGACGGTGACCATATGATCATCCGCACGCTGAGCACTTTTAGGAACTACATCATGGACTTCCAGGTTGGGAAGGAGTTTGAGGAGGATCTGACAGGCATAGATGACCGCAAGTGCATGACAACAGTGAGCTGGGACGGAGACAAGCTCCAGTGTGTGCAGAAGGGTGAGAAGGAGGGGCGTGGCTGGACCCAGTGGATCGAGGGTGATGAGCTGCACCTGGAGATGAGAGTGGAAGGTGTGGTCTGCAAGCAAGTATTCAAGAAGGTGCAGGTTTAAAC\n"
          ]
        }
      ]
    },
    {
      "cell_type": "code",
      "source": [
        "length = len(sequence )\n",
        "print(length)"
      ],
      "metadata": {
        "colab": {
          "base_uri": "https://localhost:8080/"
        },
        "id": "JHJkxI-MUfun",
        "outputId": "65930437-04e4-43bb-d133-8473ba279db9"
      },
      "execution_count": 33,
      "outputs": [
        {
          "output_type": "stream",
          "name": "stdout",
          "text": [
            "422\n"
          ]
        }
      ]
    },
    {
      "cell_type": "code",
      "source": [
        "gc=sequence.count('G')+sequence.count ('C')\n",
        "print(gc)"
      ],
      "metadata": {
        "colab": {
          "base_uri": "https://localhost:8080/"
        },
        "id": "pGtEo-o6Ufkp",
        "outputId": "99e038b2-9060-466c-9cc3-e100b54d59cd"
      },
      "execution_count": 35,
      "outputs": [
        {
          "output_type": "stream",
          "name": "stdout",
          "text": [
            "227\n"
          ]
        }
      ]
    },
    {
      "cell_type": "code",
      "source": [
        "Percentage_gc = (gc/length)*100\n",
        "print(f'Percentage of GC is {Percentage_gc:.2f}')"
      ],
      "metadata": {
        "colab": {
          "base_uri": "https://localhost:8080/"
        },
        "id": "d5CzMb97VQ2-",
        "outputId": "c63d1fe1-c7a5-4dec-8bde-a85c59d8b52b"
      },
      "execution_count": 40,
      "outputs": [
        {
          "output_type": "stream",
          "name": "stdout",
          "text": [
            "Percentage of GC is 53.79\n"
          ]
        }
      ]
    },
    {
      "cell_type": "code",
      "source": [],
      "metadata": {
        "id": "0Y_5C_2_VQxr"
      },
      "execution_count": null,
      "outputs": []
    }
  ]
}